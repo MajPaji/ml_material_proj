{
 "cells": [
  {
   "cell_type": "code",
   "execution_count": 1,
   "id": "0e28aa37",
   "metadata": {},
   "outputs": [],
   "source": [
    "import pandas as pd"
   ]
  },
  {
   "cell_type": "code",
   "execution_count": 2,
   "id": "2b5c8fa8",
   "metadata": {},
   "outputs": [
    {
     "ename": "SyntaxError",
     "evalue": "invalid syntax (<ipython-input-2-de2e746ade80>, line 1)",
     "output_type": "error",
     "traceback": [
      "\u001b[1;36m  File \u001b[1;32m\"<ipython-input-2-de2e746ade80>\"\u001b[1;36m, line \u001b[1;32m1\u001b[0m\n\u001b[1;33m    jt -t chesterish\u001b[0m\n\u001b[1;37m          ^\u001b[0m\n\u001b[1;31mSyntaxError\u001b[0m\u001b[1;31m:\u001b[0m invalid syntax\n"
     ]
    }
   ],
   "source": [
    "jt -t chesterish"
   ]
  },
  {
   "cell_type": "code",
   "execution_count": 3,
   "id": "5cf6d276",
   "metadata": {},
   "outputs": [
    {
     "name": "stdout",
     "output_type": "stream",
     "text": [
      "Collecting package metadata (current_repodata.json): ...working... done\n",
      "Solving environment: ...working... done\n",
      "\n",
      "## Package Plan ##\n",
      "\n",
      "  environment location: C:\\Users\\Dell\\anaconda3\n",
      "\n",
      "  added / updated specs:\n",
      "    - jupyterthemes\n",
      "\n",
      "\n",
      "The following packages will be downloaded:\n",
      "\n",
      "    package                    |            build\n",
      "    ---------------------------|-----------------\n",
      "    certifi-2021.5.30          |   py38haa244fe_0         142 KB  conda-forge\n",
      "    jupyterthemes-0.20.0       |             py_1         6.1 MB  conda-forge\n",
      "    lesscpy-0.14.0             |     pyhd8ed1ab_0          38 KB  conda-forge\n",
      "    ------------------------------------------------------------\n",
      "                                           Total:         6.2 MB\n",
      "\n",
      "The following NEW packages will be INSTALLED:\n",
      "\n",
      "  jupyterthemes      conda-forge/noarch::jupyterthemes-0.20.0-py_1\n",
      "  lesscpy            conda-forge/noarch::lesscpy-0.14.0-pyhd8ed1ab_0\n",
      "  ply                conda-forge/noarch::ply-3.11-py_1\n",
      "\n",
      "The following packages will be UPDATED:\n",
      "\n",
      "  ca-certificates                      2020.12.5-h5b45459_0 --> 2021.5.30-h5b45459_0\n",
      "  certifi                          2020.12.5-py38haa244fe_1 --> 2021.5.30-py38haa244fe_0\n",
      "\n",
      "\n",
      "\n",
      "Downloading and Extracting Packages\n",
      "\n",
      "jupyterthemes-0.20.0 | 6.1 MB    |            |   0% \n",
      "jupyterthemes-0.20.0 | 6.1 MB    |            |   0% \n",
      "jupyterthemes-0.20.0 | 6.1 MB    | ##3        |  23% \n",
      "jupyterthemes-0.20.0 | 6.1 MB    | #####2     |  53% \n",
      "jupyterthemes-0.20.0 | 6.1 MB    | ########2  |  82% \n",
      "jupyterthemes-0.20.0 | 6.1 MB    | ########## | 100% \n",
      "\n",
      "lesscpy-0.14.0       | 38 KB     |            |   0% \n",
      "lesscpy-0.14.0       | 38 KB     | ########## | 100% \n",
      "lesscpy-0.14.0       | 38 KB     | ########## | 100% \n",
      "\n",
      "certifi-2021.5.30    | 142 KB    |            |   0% \n",
      "certifi-2021.5.30    | 142 KB    | #1         |  11% \n",
      "certifi-2021.5.30    | 142 KB    | ########## | 100% \n",
      "certifi-2021.5.30    | 142 KB    | ########## | 100% \n",
      "Preparing transaction: ...working... done\n",
      "Verifying transaction: ...working... done\n",
      "Executing transaction: ...working... done\n",
      "\n",
      "Note: you may need to restart the kernel to use updated packages.\n"
     ]
    }
   ],
   "source": [
    "conda install jupyterthemes"
   ]
  },
  {
   "cell_type": "code",
   "execution_count": 5,
   "id": "5356fbce",
   "metadata": {},
   "outputs": [
    {
     "name": "stdout",
     "output_type": "stream",
     "text": [
      "Available Themes: \n",
      "   chesterish\n",
      "   grade3\n",
      "   gruvboxd\n",
      "   gruvboxl\n",
      "   monokai\n",
      "   oceans16\n",
      "   onedork\n",
      "   solarizedd\n",
      "   solarizedl\n"
     ]
    }
   ],
   "source": [
    "!jt -l"
   ]
  },
  {
   "cell_type": "code",
   "execution_count": 9,
   "id": "d294331b",
   "metadata": {},
   "outputs": [],
   "source": [
    "!jt -t chesterish"
   ]
  },
  {
   "cell_type": "code",
   "execution_count": null,
   "id": "5d396a26",
   "metadata": {},
   "outputs": [],
   "source": []
  }
 ],
 "metadata": {
  "kernelspec": {
   "display_name": "Python 3",
   "language": "python",
   "name": "python3"
  },
  "language_info": {
   "codemirror_mode": {
    "name": "ipython",
    "version": 3
   },
   "file_extension": ".py",
   "mimetype": "text/x-python",
   "name": "python",
   "nbconvert_exporter": "python",
   "pygments_lexer": "ipython3",
   "version": "3.8.8"
  }
 },
 "nbformat": 4,
 "nbformat_minor": 5
}
